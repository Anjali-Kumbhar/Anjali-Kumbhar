{
  "nbformat": 4,
  "nbformat_minor": 0,
  "metadata": {
    "colab": {
      "provenance": [],
      "authorship_tag": "ABX9TyONZRmTOM/+PEWiMY3Qz3pZ",
      "include_colab_link": true
    },
    "kernelspec": {
      "name": "python3",
      "display_name": "Python 3"
    },
    "language_info": {
      "name": "python"
    }
  },
  "cells": [
    {
      "cell_type": "markdown",
      "metadata": {
        "id": "view-in-github",
        "colab_type": "text"
      },
      "source": [
        "<a href=\"https://colab.research.google.com/github/Anjali-Kumbhar/Anjali-Kumbhar/blob/main/Experiment_no_1.ipynb\" target=\"_parent\"><img src=\"https://colab.research.google.com/assets/colab-badge.svg\" alt=\"Open In Colab\"/></a>"
      ]
    },
    {
      "cell_type": "code",
      "execution_count": 1,
      "metadata": {
        "id": "lOVr1SMaXkww",
        "colab": {
          "base_uri": "https://localhost:8080/"
        },
        "outputId": "ed252cb2-8724-4aa7-aa51-78e69a0f778a"
      },
      "outputs": [
        {
          "output_type": "stream",
          "name": "stdout",
          "text": [
            "Enter the radius=5\n",
            "Area of circle is  78.5\n"
          ]
        }
      ],
      "source": [
        "radius=int(input(\"Enter the radius=\"))\n",
        "area_c=3.14*radius*radius\n",
        "print(\"Area of circle is \",area_c)"
      ]
    }
  ]
}