{
  "nbformat": 4,
  "nbformat_minor": 0,
  "metadata": {
    "colab": {
      "provenance": [],
      "toc_visible": true,
      "authorship_tag": "ABX9TyMgj9QkJZJdLw4URfnGiBbI",
      "include_colab_link": true
    },
    "kernelspec": {
      "name": "python3",
      "display_name": "Python 3"
    },
    "language_info": {
      "name": "python"
    }
  },
  "cells": [
    {
      "cell_type": "markdown",
      "metadata": {
        "id": "view-in-github",
        "colab_type": "text"
      },
      "source": [
        "<a href=\"https://colab.research.google.com/github/Anjali-Kumbhar/Anjali-Kumbhar/blob/main/armostrongNumber.ipynb\" target=\"_parent\"><img src=\"https://colab.research.google.com/assets/colab-badge.svg\" alt=\"Open In Colab\"/></a>"
      ]
    },
    {
      "cell_type": "code",
      "source": [
        "num=int(input(\"Enter a NUmber=\"))\n",
        "num_digit=len(str(num))\n",
        "sum=0\n",
        "temp=num\n",
        "while temp>0:\n",
        "  digit=temp%10\n",
        "  sum+=digit**num_digit\n",
        "  temp=temp//10\n",
        "if num==sum:\n",
        "  print(\"Given Number is Armstrong\")\n",
        "else:\n",
        "  print(\"Given Number is not Armstrong\")"
      ],
      "metadata": {
        "id": "0YZENY8ftEqN"
      },
      "execution_count": null,
      "outputs": []
    }
  ]
}