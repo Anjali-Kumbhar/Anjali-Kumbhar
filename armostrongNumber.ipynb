{
  "nbformat": 4,
  "nbformat_minor": 0,
  "metadata": {
    "colab": {
      "provenance": [],
      "authorship_tag": "ABX9TyPiX6ciICp1Czohh8YUAf5J",
      "include_colab_link": true
    },
    "kernelspec": {
      "name": "python3",
      "display_name": "Python 3"
    },
    "language_info": {
      "name": "python"
    }
  },
  "cells": [
    {
      "cell_type": "markdown",
      "metadata": {
        "id": "view-in-github",
        "colab_type": "text"
      },
      "source": [
        "<a href=\"https://colab.research.google.com/github/Anjali-Kumbhar/Anjali-Kumbhar/blob/main/armostrongNumber.ipynb\" target=\"_parent\"><img src=\"https://colab.research.google.com/assets/colab-badge.svg\" alt=\"Open In Colab\"/></a>"
      ]
    },
    {
      "cell_type": "code",
      "execution_count": null,
      "metadata": {
        "id": "lOVr1SMaXkww"
      },
      "outputs": [],
      "source": [
        "n=int(input(\"Enter any number\"))\n",
        "length=len(str(n))\n",
        "sum=0\n",
        "temp=a\n",
        "while a>0:\n",
        "  digit=a%10\n",
        "  sum=digit**lenght\n",
        "  num=a//10\n",
        "if temp==sum:\n",
        "  print(\"Given Number is armostrong\")\n",
        "else :\n",
        "  print(\"Given Number is not armostrong\")"
      ]
    }
  ]
}